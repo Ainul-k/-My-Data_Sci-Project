{
 "cells": [
  {
   "cell_type": "markdown",
   "id": "36ea5c1b-84b7-4621-9152-743ac546c3a2",
   "metadata": {},
   "source": [
    "# Data Science Tools and Ecosystem"
   ]
  },
  {
   "cell_type": "code",
   "execution_count": null,
   "id": "4ad623b6-1635-41fb-b5f8-61f3c7c4bc26",
   "metadata": {},
   "outputs": [],
   "source": []
  },
  {
   "cell_type": "markdown",
   "id": "0a03b296-fe69-45a4-bf45-f1b947895b1f",
   "metadata": {},
   "source": [
    "In this notebook, Data Science Tools and Ecosystem are summarized."
   ]
  },
  {
   "cell_type": "markdown",
   "id": "c19ac1c5-4262-47c2-9601-41ad8571797d",
   "metadata": {},
   "source": [
    "### Some of the popular languages that Data Scientists use are:\n",
    "\n",
    "1. Python\n",
    "2. R\n",
    "3. scalla\n",
    "4. java"
   ]
  },
  {
   "cell_type": "markdown",
   "id": "506b3dd0-87d3-4a9a-89d1-ef5c1e8a22cc",
   "metadata": {},
   "source": [
    "#### Some of the commonly used libraries used by Data Scientists include:\n",
    "1. numpy\n",
    "2. pandas\n",
    "3. pytorch\n",
    "4. tensorfiow"
   ]
  },
  {
   "cell_type": "markdown",
   "id": "a5d1e819-ca9d-4fb2-a7b5-b1d529b47bb0",
   "metadata": {},
   "source": [
    "| Data Science Tools |\n",
    "|--------------------|\n",
    "| Watson Studio      |\n",
    "| Python IDE         |\n",
    "| anaconda           |\n",
    "| R Studio           |"
   ]
  },
  {
   "cell_type": "markdown",
   "id": "281abe38-3223-44ef-b45d-4426a4324d92",
   "metadata": {},
   "source": [
    "### Below are a few examples of evaluating arithmetic expressions in Python\n",
    "#### addition\n",
    "result = 3 + 5\n",
    "\n",
    "print(result)  # Output: 8\n",
    "#### sub/mul\n",
    "result = (10 - 4) * 3\n",
    "\n",
    "print(result)  # Output: 18"
   ]
  },
  {
   "cell_type": "code",
   "execution_count": 22,
   "id": "8a6a01c8-7675-4398-b15f-269c3bad0b48",
   "metadata": {},
   "outputs": [
    {
     "name": "stdout",
     "output_type": "stream",
     "text": [
      "17\n"
     ]
    }
   ],
   "source": [
    "#This a simple arithmetic expression to mutiply then add integers.\n",
    "x = (3*4)+5\n",
    "print(x)"
   ]
  },
  {
   "cell_type": "code",
   "execution_count": 36,
   "id": "496d3b83-6443-4885-ba2c-b47bfa4e2bd1",
   "metadata": {},
   "outputs": [
    {
     "name": "stdin",
     "output_type": "stream",
     "text": [
      "Enter minutes:  200\n"
     ]
    },
    {
     "name": "stdout",
     "output_type": "stream",
     "text": [
      "200 minutes is equal to 3.33 hours.\n"
     ]
    }
   ],
   "source": [
    "#This will convert 200 minutes to hours by diving by 60.\n",
    "\n",
    "# Ask the user to enter minutes\n",
    "minutes = int(input(\"Enter minutes: \"))\n",
    "\n",
    "# Convert minutes to hours\n",
    "hours = minutes / 60\n",
    "\n",
    "print(f\"{minutes} minutes is equal to {hours:.2f} hours.\")\n"
   ]
  },
  {
   "cell_type": "markdown",
   "id": "78882fcb-bb8c-46de-bcd3-38e2d1667c93",
   "metadata": {},
   "source": [
    "List popular languages for Data Science\n",
    "- Python\n",
    "- R\n",
    "- scalla\n",
    "- java"
   ]
  },
  {
   "cell_type": "markdown",
   "id": "90c651e3-db34-4bbb-93e5-aa477250771f",
   "metadata": {},
   "source": [
    "## Author\n",
    "Mohammad Ainul Karim"
   ]
  },
  {
   "cell_type": "code",
   "execution_count": null,
   "id": "fb458583-3af5-4a17-b15b-e029ed7d2cbd",
   "metadata": {},
   "outputs": [],
   "source": []
  }
 ],
 "metadata": {
  "kernelspec": {
   "display_name": "Python [conda env:base] *",
   "language": "python",
   "name": "conda-base-py"
  },
  "language_info": {
   "codemirror_mode": {
    "name": "ipython",
    "version": 3
   },
   "file_extension": ".py",
   "mimetype": "text/x-python",
   "name": "python",
   "nbconvert_exporter": "python",
   "pygments_lexer": "ipython3",
   "version": "3.12.7"
  }
 },
 "nbformat": 4,
 "nbformat_minor": 5
}
